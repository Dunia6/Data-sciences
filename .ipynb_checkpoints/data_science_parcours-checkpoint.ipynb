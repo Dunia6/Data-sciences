{
 "cells": [
  {
   "cell_type": "markdown",
   "metadata": {},
   "source": [
    "# Data science (Parcours) M@sm@"
   ]
  },
  {
   "cell_type": "markdown",
   "metadata": {},
   "source": [
    "# Introduction à la bibliothèque numpy"
   ]
  },
  {
   "cell_type": "code",
   "execution_count": 1,
   "metadata": {},
   "outputs": [],
   "source": [
    "import numpy as np"
   ]
  },
  {
   "cell_type": "markdown",
   "metadata": {},
   "source": [
    "## Création d'un tableau numpy"
   ]
  },
  {
   "cell_type": "markdown",
   "metadata": {},
   "source": [
    "#### Avec 'np.array()'"
   ]
  },
  {
   "cell_type": "code",
   "execution_count": 2,
   "metadata": {},
   "outputs": [
    {
     "name": "stdout",
     "output_type": "stream",
     "text": [
      "<class 'numpy.ndarray'>\n",
      "[[1 2 3]\n",
      " [4 5 6]\n",
      " [7 8 9]]\n"
     ]
    }
   ],
   "source": [
    "mon_tableau = np.array([[1,2,3],[4,5,6],[7,8,9]], dtype=np.int16)\n",
    "# Création d'un tableau grace a la methode 'np.array()' de numpy de type entier\n",
    "# qui prend des listes en parametre\n",
    "print(type(mon_tableau))\n",
    "print(mon_tableau)"
   ]
  },
  {
   "cell_type": "markdown",
   "metadata": {},
   "source": [
    "#### Avec 'np.zeros((nombre_lignes, nombre_colonnes))'"
   ]
  },
  {
   "cell_type": "code",
   "execution_count": 3,
   "metadata": {},
   "outputs": [
    {
     "name": "stdout",
     "output_type": "stream",
     "text": [
      "[[0 0 0 0 0]\n",
      " [0 0 0 0 0]\n",
      " [0 0 0 0 0]]\n"
     ]
    }
   ],
   "source": [
    "# La methode 'np.zeros()' nous perment d'initialiser un tableau rempli des '0'\n",
    "# il prend en parametre le nombre des lignes et celui des colonnes\n",
    "print(np.zeros((3,5), dtype=np.int16))# 3, le nombre des lignes et 5 le nombre des colonnes"
   ]
  },
  {
   "cell_type": "markdown",
   "metadata": {},
   "source": [
    "#### Avec 'np.ones((nombre_lignes, nombre_colonnes))'"
   ]
  },
  {
   "cell_type": "code",
   "execution_count": 4,
   "metadata": {},
   "outputs": [
    {
     "name": "stdout",
     "output_type": "stream",
     "text": [
      "[[1 1 1 1 1 1 1]\n",
      " [1 1 1 1 1 1 1]\n",
      " [1 1 1 1 1 1 1]]\n"
     ]
    }
   ],
   "source": [
    "# La methode 'np.ones()' nous perment d'initialiser un tableau rempli des '0'\n",
    "# il prend en parametre le nombre des lignes et celui des colonnes\n",
    "print(np.ones((3,7), dtype=np.int16)) # 3, le nombre des lignes et 7 le nombre des colonnes"
   ]
  },
  {
   "cell_type": "markdown",
   "metadata": {},
   "source": [
    "#### Avec 'np.random.randn(nombre_ligne, nombre_colonne)' et 'np.empty((nombre_lignes, nombre_colonnes))'"
   ]
  },
  {
   "cell_type": "code",
   "execution_count": 5,
   "metadata": {},
   "outputs": [
    {
     "name": "stdout",
     "output_type": "stream",
     "text": [
      "--- Avec np.random.randn() ---\n",
      "[[ 0.12174511 -0.65611054  0.02714891 -0.57111217]\n",
      " [-0.48665842  1.83636351 -0.80770601  0.41077557]\n",
      " [ 0.48038646 -0.32446138  0.44991608 -0.47909356]]\n",
      "--- Avec np.empty()\n",
      "[[ 0.12174511 -0.65611054  0.02714891 -0.57111217]\n",
      " [-0.48665842  1.83636351 -0.80770601  0.41077557]\n",
      " [ 0.48038646 -0.32446138  0.44991608 -0.47909356]]\n"
     ]
    }
   ],
   "source": [
    "# La méthode 'np.random.randn()' nous initialise un tableau numpy ayant des valeurs  aléatoires sans possibilité de déterminer un type des données\n",
    "print('--- Avec np.random.randn() ---')\n",
    "print(np.random.randn(3,4))\n",
    "# La méthode 'np.empty()' nous initialise un tableau numpy ayant des valeurs  aléatoires avec possibilité de déterminer un type des données\n",
    "print('--- Avec np.empty()')\n",
    "print(np.empty((3,4), dtype=np.float64))\n"
   ]
  },
  {
   "cell_type": "markdown",
   "metadata": {},
   "source": [
    "### Numpy - Méthodes ndim, shape et size\n",
    "- ndim = indique la dimension du tableau\n",
    "- shape = indique le nombre des lignes, des colonnes ainsi que la profondeur dans le cas des tableaux à 3 dimensions.\n",
    "    - shape retourne un tuple selon qu'il s'agit d'un tableau en 1D, 2D, 3D ...\n",
    "    Avec l'utilisation des tableaux 2D, nous aurons à chaque fois un tuple ayant 2  éléments; le premier indiquant le nombre des lignes et le deuxième indiquant le nombre des colonnes.\n",
    "    - shape ne peut pas être modifié car il s'agit d'un tuple\n",
    "    - shape[0] = Accès au nombre des lignes du tableau\n",
    "    - shape[1] = Accès au nombes des colonnes du tableau\n",
    "- size = indique la taille du tableau, soit le nombre d'éléments du tableau"
   ]
  },
  {
   "cell_type": "code",
   "execution_count": 6,
   "metadata": {},
   "outputs": [
    {
     "name": "stdout",
     "output_type": "stream",
     "text": [
      "La dimension de ce tableau est  2\n",
      "le tuple 'shape' de ce tableu est  (3, 3)\n",
      "Ce tableau a  3 ligne(s)\n",
      "Ce tableau a  3 colonne(s)\n",
      "Ce tableau contient 9 éléments\n"
     ]
    }
   ],
   "source": [
    "print(\"La dimension de ce tableau est \", mon_tableau.ndim)# indique la dimension du tableau \n",
    "print(\"le tuple 'shape' de ce tableu est \",mon_tableau.shape)# Nombre des lignes et des colonnes dans un tuple\n",
    "print('Ce tableau a ',mon_tableau.shape[0], 'ligne(s)')  # Indique le nombre des lignes\n",
    "print('Ce tableau a ',mon_tableau.shape[1],'colonne(s)') # Indique le nombre des colonnes\n",
    "print('Ce tableau contient',mon_tableau.size, 'éléments') # Indique la taille du tableau, soit le nombre d'éléments"
   ]
  },
  {
   "cell_type": "markdown",
   "metadata": {},
   "source": [
    "## Indexing et Slicing"
   ]
  },
  {
   "cell_type": "markdown",
   "metadata": {},
   "source": [
    "### Indexing"
   ]
  },
  {
   "cell_type": "code",
   "execution_count": 7,
   "metadata": {},
   "outputs": [
    {
     "name": "stdout",
     "output_type": "stream",
     "text": [
      "[[1 2 3]\n",
      " [4 5 6]\n",
      " [7 8 9]]\n"
     ]
    }
   ],
   "source": [
    "print(mon_tableau)"
   ]
  },
  {
   "cell_type": "code",
   "execution_count": 8,
   "metadata": {},
   "outputs": [
    {
     "name": "stdout",
     "output_type": "stream",
     "text": [
      "[[1 2 3]\n",
      " [4 5 6]\n",
      " [7 8 9]]\n"
     ]
    },
    {
     "data": {
      "text/plain": [
       "2"
      ]
     },
     "execution_count": 8,
     "metadata": {},
     "output_type": "execute_result"
    }
   ],
   "source": [
    "# indexing\n",
    "# Accès à l'élément du table se trouvant à la première ligne; deuxième colonne\n",
    "# Le 1er parametre indique la ligne et le second, indique la colonne\n",
    "print(mon_tableau)\n",
    "mon_tableau[0,1]"
   ]
  },
  {
   "cell_type": "markdown",
   "metadata": {},
   "source": [
    "### Boolean indexing"
   ]
  },
  {
   "cell_type": "code",
   "execution_count": 9,
   "metadata": {},
   "outputs": [
    {
     "name": "stdout",
     "output_type": "stream",
     "text": [
      "Matrice aléatoire\n",
      "[[4 3 7 4 4]\n",
      " [3 3 5 7 8]\n",
      " [0 7 5 6 1]\n",
      " [6 8 3 0 1]\n",
      " [7 4 0 8 0]]\n",
      "Boolean indexing (Valeurs supérieur à '4' en 'True')\n",
      "[[False False  True False False]\n",
      " [False False  True  True  True]\n",
      " [False  True  True  True False]\n",
      " [ True  True False False False]\n",
      " [ True False False  True False]]\n",
      "Remplace toutes les valeurs supérieurs à '5' par '6'\n",
      "[[4 3 6 4 4]\n",
      " [3 3 5 6 6]\n",
      " [0 6 5 6 1]\n",
      " [6 6 3 0 1]\n",
      " [6 4 0 6 0]]\n"
     ]
    }
   ],
   "source": [
    "T = np.random.randint(0,10,[5,5])\n",
    "print(f\"Matrice aléatoire\\n{T}\")\n",
    "print(f\"Boolean indexing (Valeurs supérieur à '4' en 'True')\\n{T>4}\")\n",
    "T[T>5] = 6 # Change toutes les valeurs supérieurs à '5' en '6'\n",
    "print(f\"Remplace toutes les valeurs supérieurs à '5' par '6'\\n{T}\")"
   ]
  },
  {
   "cell_type": "markdown",
   "metadata": {},
   "source": [
    "### Slicing"
   ]
  },
  {
   "cell_type": "code",
   "execution_count": 10,
   "metadata": {},
   "outputs": [
    {
     "name": "stdout",
     "output_type": "stream",
     "text": [
      "[[10 10]\n",
      " [10 10]]\n",
      "shape =  (2, 2)\n",
      "Mon tableau\n",
      "[[10 10  3]\n",
      " [10 10  6]\n",
      " [ 7  8  9]]\n",
      "Accès à 2 dernières colonnes\n",
      "[[10  3]\n",
      " [10  6]\n",
      " [ 8  9]]\n"
     ]
    }
   ],
   "source": [
    "# Slicing \n",
    "tableau_slicing = mon_tableau[0:2, 0:2]\n",
    "tableau_slicing[:,:] = 10\n",
    "print(tableau_slicing)\n",
    "print('shape = ',tableau_slicing.shape)\n",
    "print(f'Mon tableau\\n{mon_tableau}')\n",
    "print(f\"Accès à 2 dernières colonnes\\n{mon_tableau[:, -2: ]}\")\n"
   ]
  },
  {
   "cell_type": "code",
   "execution_count": 11,
   "metadata": {},
   "outputs": [
    {
     "name": "stdout",
     "output_type": "stream",
     "text": [
      "tableau\n",
      "[[0. 0. 0. 0.]\n",
      " [0. 0. 0. 0.]\n",
      " [0. 0. 0. 0.]\n",
      " [0. 0. 0. 0.]]\n",
      "Modification de 4 éléments au centre du tableau\n",
      "[[0. 0. 0. 0.]\n",
      " [0. 8. 8. 0.]\n",
      " [0. 8. 8. 0.]\n",
      " [0. 0. 0. 0.]])\n"
     ]
    }
   ],
   "source": [
    "b = np.zeros((4,4))\n",
    "print(f'tableau\\n{b}')\n",
    "b[1:3, 1:3] = 8\n",
    "print(f\"Modification de 4 éléments au centre du tableau\\n{b})\")"
   ]
  },
  {
   "cell_type": "code",
   "execution_count": 12,
   "metadata": {},
   "outputs": [
    {
     "data": {
      "text/plain": [
       "array([[1., 0., 1., 0., 1.],\n",
       "       [0., 0., 0., 0., 0.],\n",
       "       [1., 0., 1., 0., 1.],\n",
       "       [0., 0., 0., 0., 0.],\n",
       "       [1., 0., 1., 0., 1.]])"
      ]
     },
     "execution_count": 12,
     "metadata": {},
     "output_type": "execute_result"
    }
   ],
   "source": [
    "# Slicing avec la notion de pas\n",
    "c = np.zeros((5,5))\n",
    "c[::2, ::2] = 1\n",
    "c"
   ]
  },
  {
   "cell_type": "markdown",
   "metadata": {},
   "source": [
    "## Assemblage ou fusion des tableaux"
   ]
  },
  {
   "cell_type": "markdown",
   "metadata": {},
   "source": [
    "Utilisation des méthodes :\n",
    "* hstack\n",
    "* vstack\n",
    "* concatenate"
   ]
  },
  {
   "cell_type": "code",
   "execution_count": 13,
   "metadata": {},
   "outputs": [],
   "source": [
    "import numpy as np\n",
    "\n",
    "\n",
    "a = np.zeros((3,2), dtype=np.int16)\n",
    "b = np.ones((3,2))\n"
   ]
  },
  {
   "cell_type": "code",
   "execution_count": 14,
   "metadata": {},
   "outputs": [
    {
     "data": {
      "text/plain": [
       "array([[0., 0., 1., 1.],\n",
       "       [0., 0., 1., 1.],\n",
       "       [0., 0., 1., 1.]])"
      ]
     },
     "execution_count": 14,
     "metadata": {},
     "output_type": "execute_result"
    }
   ],
   "source": [
    "# Avec hstack\n",
    "\n",
    "np.hstack((a,b))"
   ]
  },
  {
   "cell_type": "code",
   "execution_count": 15,
   "metadata": {},
   "outputs": [
    {
     "data": {
      "text/plain": [
       "array([[0., 0.],\n",
       "       [0., 0.],\n",
       "       [0., 0.],\n",
       "       [1., 1.],\n",
       "       [1., 1.],\n",
       "       [1., 1.]])"
      ]
     },
     "execution_count": 15,
     "metadata": {},
     "output_type": "execute_result"
    }
   ],
   "source": [
    "# Avec le vstack\n",
    "\n",
    "np.vstack((a,b))"
   ]
  },
  {
   "cell_type": "code",
   "execution_count": 16,
   "metadata": {},
   "outputs": [
    {
     "name": "stdout",
     "output_type": "stream",
     "text": [
      "Fusion verticale\n",
      "[[0. 0.]\n",
      " [0. 0.]\n",
      " [0. 0.]\n",
      " [1. 1.]\n",
      " [1. 1.]\n",
      " [1. 1.]]\n",
      "Fusion horizontale\n",
      "[[0. 0. 1. 1.]\n",
      " [0. 0. 1. 1.]\n",
      " [0. 0. 1. 1.]]\n"
     ]
    }
   ],
   "source": [
    "# Avec concatenate, il y a un autre parametre appelé axis\n",
    "# axis = 0 --> Pour l'assemblage ou la fusion verticale et axis = 1 --> pour la fusion horizontale\n",
    "\n",
    "v = np.concatenate((a,b), axis=0) # fusion verticale\n",
    "h = np.concatenate((a,b), axis=1) # fusion horizontale\n",
    "print(f'Fusion verticale\\n{v}')\n",
    "print(f\"Fusion horizontale\\n{h}\")"
   ]
  },
  {
   "cell_type": "markdown",
   "metadata": {},
   "source": [
    "## Methodes Numpy\n",
    "* Pour les tableaux ndarray\n",
    "* Pour la Statistique \n",
    "* Pour l'algèbre"
   ]
  },
  {
   "cell_type": "markdown",
   "metadata": {},
   "source": [
    "### Méthodes ndarray"
   ]
  },
  {
   "cell_type": "code",
   "execution_count": 1,
   "metadata": {},
   "outputs": [
    {
     "data": {
      "text/plain": [
       "array([[2, 9, 3],\n",
       "       [7, 3, 6]])"
      ]
     },
     "execution_count": 1,
     "metadata": {},
     "output_type": "execute_result"
    }
   ],
   "source": [
    "import numpy as np\n",
    "\n",
    "\n",
    "mon_tableau = np.random.randint(0,10,[2,3])\n",
    "mon_tableau"
   ]
  },
  {
   "cell_type": "markdown",
   "metadata": {},
   "source": [
    "#### ⚠ Attention  \n",
    "##### axis=0 --> pour appliquer la méthode sur les colonnes\n",
    "##### axis=1 --> pour appliquer la méthode sur les lignes\n",
    "##### sans paramètre, pour appliquer la méthode sur le tableau en entier \n",
    "- sum(axis), cumsum(axis)\n",
    "- prod(axis), cumprod(axis)\n",
    "\n",
    "- min(axis), max(axis)\n",
    "- argmin(axis), argmax(axis)\n",
    "\n",
    "- sort(axis), argsort(axis)\n"
   ]
  },
  {
   "cell_type": "code",
   "execution_count": 3,
   "metadata": {},
   "outputs": [
    {
     "name": "stdout",
     "output_type": "stream",
     "text": [
      "Retourne un tableau à une dimension contenant la les sommes des différentes colonnes\n",
      "[ 9 12  9]\n",
      "Retourne un tableau à une dimension contenant la les sommes des différentes lignes\n",
      "[ 9 12  9]\n"
     ]
    }
   ],
   "source": [
    "# Retourne un tableau à une dimension contenant les sommes des différentes colonnes\n",
    "print(f\"Retourne un tableau à une dimension contenant les sommes des différentes colonnes\\n{mon_tableau.sum(axis=0)}\")\n",
    "# Retourne un tableau à une dimension contenant les sommes des différentes lignes\n",
    "print(f\"Retourne un tableau à une dimension contenant les sommes des différentes lignes\\n{mon_tableau.sum(axis=0)}\")"
   ]
  },
  {
   "cell_type": "code",
   "execution_count": 7,
   "metadata": {},
   "outputs": [
    {
     "name": "stdout",
     "output_type": "stream",
     "text": [
      "[[2 9 3]\n",
      " [7 3 6]]\n"
     ]
    },
    {
     "data": {
      "text/plain": [
       "30"
      ]
     },
     "execution_count": 7,
     "metadata": {},
     "output_type": "execute_result"
    }
   ],
   "source": [
    "# Somme de tous les éléments du tableau\n",
    "print(mon_tableau)\n",
    "mon_tableau.sum()"
   ]
  },
  {
   "cell_type": "code",
   "execution_count": 8,
   "metadata": {},
   "outputs": [
    {
     "name": "stdout",
     "output_type": "stream",
     "text": [
      "[[2 9 3]\n",
      " [7 3 6]]\n"
     ]
    },
    {
     "data": {
      "text/plain": [
       "array([ 2, 11, 14, 21, 24, 30], dtype=int32)"
      ]
     },
     "execution_count": 8,
     "metadata": {},
     "output_type": "execute_result"
    }
   ],
   "source": [
    "# La somme cumulé des éléments du tableau\n",
    "print(mon_tableau)\n",
    "mon_tableau.cumsum()"
   ]
  },
  {
   "cell_type": "code",
   "execution_count": 10,
   "metadata": {},
   "outputs": [
    {
     "name": "stdout",
     "output_type": "stream",
     "text": [
      "[[2 9 3]\n",
      " [7 3 6]]\n"
     ]
    },
    {
     "data": {
      "text/plain": [
       "6804"
      ]
     },
     "execution_count": 10,
     "metadata": {},
     "output_type": "execute_result"
    }
   ],
   "source": [
    "# le produit de tous les éléments du tableau\n",
    "print(mon_tableau)\n",
    "mon_tableau.prod()"
   ]
  },
  {
   "cell_type": "code",
   "execution_count": 12,
   "metadata": {},
   "outputs": [
    {
     "name": "stdout",
     "output_type": "stream",
     "text": [
      "[[2 9 3]\n",
      " [7 3 6]]\n"
     ]
    },
    {
     "data": {
      "text/plain": [
       "array([   2,   18,   54,  378, 1134, 6804], dtype=int32)"
      ]
     },
     "execution_count": 12,
     "metadata": {},
     "output_type": "execute_result"
    }
   ],
   "source": [
    "# Calcul du produit cumulé\n",
    "print(mon_tableau)\n",
    "mon_tableau.cumprod()"
   ]
  },
  {
   "cell_type": "code",
   "execution_count": 17,
   "metadata": {},
   "outputs": [
    {
     "name": "stdout",
     "output_type": "stream",
     "text": [
      "[[2 9 3]\n",
      " [7 3 6]]\n"
     ]
    },
    {
     "data": {
      "text/plain": [
       "2"
      ]
     },
     "execution_count": 17,
     "metadata": {},
     "output_type": "execute_result"
    }
   ],
   "source": [
    "# Retourne la valeur minimale du tableau\n",
    "print(mon_tableau)\n",
    "mon_tableau.min()"
   ]
  },
  {
   "cell_type": "code",
   "execution_count": 18,
   "metadata": {},
   "outputs": [
    {
     "name": "stdout",
     "output_type": "stream",
     "text": [
      "[[2 9 3]\n",
      " [7 3 6]]\n"
     ]
    },
    {
     "data": {
      "text/plain": [
       "0"
      ]
     },
     "execution_count": 18,
     "metadata": {},
     "output_type": "execute_result"
    }
   ],
   "source": [
    "# Retourne l'indice la position de la valeur minimale du tableau\n",
    "print(mon_tableau)\n",
    "mon_tableau.argmin()"
   ]
  },
  {
   "cell_type": "code",
   "execution_count": 19,
   "metadata": {},
   "outputs": [
    {
     "name": "stdout",
     "output_type": "stream",
     "text": [
      "[[2 9 3]\n",
      " [7 3 6]]\n"
     ]
    },
    {
     "data": {
      "text/plain": [
       "9"
      ]
     },
     "execution_count": 19,
     "metadata": {},
     "output_type": "execute_result"
    }
   ],
   "source": [
    "# Retourne la valeur maximale du tableau\n",
    "print(mon_tableau)\n",
    "mon_tableau.max()"
   ]
  },
  {
   "cell_type": "code",
   "execution_count": 20,
   "metadata": {},
   "outputs": [
    {
     "name": "stdout",
     "output_type": "stream",
     "text": [
      "[[2 9 3]\n",
      " [7 3 6]]\n"
     ]
    },
    {
     "data": {
      "text/plain": [
       "1"
      ]
     },
     "execution_count": 20,
     "metadata": {},
     "output_type": "execute_result"
    }
   ],
   "source": [
    "# Retourne l'indice ou la position la valeur maximale du tableau\n",
    "print(mon_tableau)\n",
    "mon_tableau.argmax()"
   ]
  },
  {
   "cell_type": "code",
   "execution_count": null,
   "metadata": {},
   "outputs": [],
   "source": []
  }
 ],
 "metadata": {
  "kernelspec": {
   "display_name": "Python 3 (ipykernel)",
   "language": "python",
   "name": "python3"
  },
  "language_info": {
   "codemirror_mode": {
    "name": "ipython",
    "version": 3
   },
   "file_extension": ".py",
   "mimetype": "text/x-python",
   "name": "python",
   "nbconvert_exporter": "python",
   "pygments_lexer": "ipython3",
   "version": "3.9.12"
  },
  "vscode": {
   "interpreter": {
    "hash": "28d6d9e31a694f2aba28d42b1019d9365f56410d563150feaee59905aa4508a9"
   }
  }
 },
 "nbformat": 4,
 "nbformat_minor": 2
}
