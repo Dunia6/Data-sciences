{
 "cells": [
  {
   "cell_type": "markdown",
   "id": "fd0c35c7",
   "metadata": {},
   "source": [
    "# Les listes"
   ]
  },
  {
   "cell_type": "markdown",
   "id": "d013d912",
   "metadata": {},
   "source": []
  },
  {
   "cell_type": "markdown",
   "id": "cca6618e",
   "metadata": {},
   "source": [
    "## Création d'une liste"
   ]
  },
  {
   "cell_type": "code",
   "execution_count": 1,
   "id": "2eff99a0",
   "metadata": {},
   "outputs": [
    {
     "data": {
      "text/plain": [
       "[1, 2, 3, 4, 5, 6, 7, 8, 9, 10]"
      ]
     },
     "execution_count": 1,
     "metadata": {},
     "output_type": "execute_result"
    }
   ],
   "source": [
    "ma_liste = [1,2,3,4,5,6,7,8,9,10]\n",
    "ma_liste"
   ]
  },
  {
   "cell_type": "markdown",
   "id": "9a54d884",
   "metadata": {},
   "source": [
    "## Parcourir une liste à l'aide de la boucle \"for\""
   ]
  },
  {
   "cell_type": "code",
   "execution_count": 3,
   "id": "57edd69a",
   "metadata": {},
   "outputs": [
    {
     "name": "stdout",
     "output_type": "stream",
     "text": [
      "1\n",
      "2\n",
      "3\n",
      "4\n",
      "5\n",
      "6\n",
      "7\n",
      "8\n",
      "9\n",
      "10\n"
     ]
    }
   ],
   "source": [
    "for element in ma_liste:\n",
    "    print(element)"
   ]
  },
  {
   "cell_type": "markdown",
   "id": "e7ea94cf",
   "metadata": {},
   "source": [
    "## Suppression des éléments d'une liste grace au slicing"
   ]
  },
  {
   "cell_type": "code",
   "execution_count": 4,
   "id": "b02051db",
   "metadata": {},
   "outputs": [
    {
     "data": {
      "text/plain": [
       "[3, 4, 5, 6, 7, 8, 9, 10]"
      ]
     },
     "execution_count": 4,
     "metadata": {},
     "output_type": "execute_result"
    }
   ],
   "source": [
    "ma_liste[0:2] = []\n",
    "ma_liste"
   ]
  },
  {
   "cell_type": "markdown",
   "id": "79ff4f50",
   "metadata": {},
   "source": [
    "## Suppression d'un élément unique dans une liste(indexation simple)"
   ]
  },
  {
   "cell_type": "code",
   "execution_count": 9,
   "id": "6c101580",
   "metadata": {},
   "outputs": [
    {
     "data": {
      "text/plain": [
       "[3, 4, 6, 7, 8, 9, 10]"
      ]
     },
     "execution_count": 9,
     "metadata": {},
     "output_type": "execute_result"
    }
   ],
   "source": [
    "ma_liste = [3, 4, 5, 6, 7, 8, 9, 10]\n",
    "del ma_liste[2]#Le mot-clé del effectue une suppression simple\n",
    "ma_liste"
   ]
  },
  {
   "cell_type": "code",
   "execution_count": 10,
   "id": "8414fea5",
   "metadata": {},
   "outputs": [
    {
     "data": {
      "text/plain": [
       "[3, 4, 6, 8, 9, 10]"
      ]
     },
     "execution_count": 10,
     "metadata": {},
     "output_type": "execute_result"
    }
   ],
   "source": [
    "element_sup = ma_liste.pop(3)# la fonction pop stock la valeur supprimé quelque part \n",
    "ma_liste"
   ]
  },
  {
   "cell_type": "code",
   "execution_count": 11,
   "id": "f2f38db2",
   "metadata": {},
   "outputs": [
    {
     "data": {
      "text/plain": [
       "7"
      ]
     },
     "execution_count": 11,
     "metadata": {},
     "output_type": "execute_result"
    }
   ],
   "source": [
    "element_sup"
   ]
  },
  {
   "cell_type": "markdown",
   "id": "fd4ed936",
   "metadata": {},
   "source": [
    "## Ajout des éléments dans une liste"
   ]
  }
 ],
 "metadata": {
  "kernelspec": {
   "display_name": "Python 3 (ipykernel)",
   "language": "python",
   "name": "python3"
  },
  "language_info": {
   "codemirror_mode": {
    "name": "ipython",
    "version": 3
   },
   "file_extension": ".py",
   "mimetype": "text/x-python",
   "name": "python",
   "nbconvert_exporter": "python",
   "pygments_lexer": "ipython3",
   "version": "3.9.12"
  }
 },
 "nbformat": 4,
 "nbformat_minor": 5
}
