{
 "cells": [
  {
   "cell_type": "markdown",
   "metadata": {},
   "source": [
    "# Data science (Parcours)"
   ]
  },
  {
   "cell_type": "markdown",
   "metadata": {},
   "source": [
    "# Introduction à la bibliothèque numpy"
   ]
  },
  {
   "cell_type": "code",
   "execution_count": 2,
   "metadata": {},
   "outputs": [],
   "source": [
    "import numpy as np"
   ]
  },
  {
   "cell_type": "markdown",
   "metadata": {},
   "source": [
    "## Création d'un tableau numpy"
   ]
  },
  {
   "cell_type": "markdown",
   "metadata": {},
   "source": [
    "#### Avec 'np.array()'"
   ]
  },
  {
   "cell_type": "code",
   "execution_count": 14,
   "metadata": {},
   "outputs": [
    {
     "name": "stdout",
     "output_type": "stream",
     "text": [
      "<class 'numpy.ndarray'>\n",
      "[[1 2 3]\n",
      " [4 5 6]\n",
      " [7 8 9]]\n"
     ]
    }
   ],
   "source": [
    "mon_tableau = np.array([[1,2,3],[4,5,6],[7,8,9]], dtype=np.int16)\n",
    "# Création d'un tableau grace a la methode 'np.array()' de numpy de type entier\n",
    "# qui prend des listes en parametre\n",
    "print(type(mon_tableau))\n",
    "print(mon_tableau)"
   ]
  },
  {
   "cell_type": "markdown",
   "metadata": {},
   "source": [
    "#### Avec 'np.zeros((nombre_lignes, nombre_colonnes))'"
   ]
  },
  {
   "cell_type": "code",
   "execution_count": 4,
   "metadata": {},
   "outputs": [
    {
     "name": "stdout",
     "output_type": "stream",
     "text": [
      "[[0 0 0 0 0]\n",
      " [0 0 0 0 0]\n",
      " [0 0 0 0 0]]\n"
     ]
    }
   ],
   "source": [
    "# La methode 'np.zeros()' nous perment d'initialiser un tableau rempli des '0'\n",
    "# il prend en parametre le nombre des lignes et celui des colonnes\n",
    "print(np.zeros((3,5), dtype=np.int16))# 3, le nombre des lignes et 5 le nombre des colonnes"
   ]
  },
  {
   "cell_type": "markdown",
   "metadata": {},
   "source": [
    "#### Avec 'np.ones((nombre_lignes, nombre_colonnes))'"
   ]
  },
  {
   "cell_type": "code",
   "execution_count": 5,
   "metadata": {},
   "outputs": [
    {
     "name": "stdout",
     "output_type": "stream",
     "text": [
      "[[1 1 1 1 1 1 1]\n",
      " [1 1 1 1 1 1 1]\n",
      " [1 1 1 1 1 1 1]]\n"
     ]
    }
   ],
   "source": [
    "# La methode 'np.ones()' nous perment d'initialiser un tableau rempli des '0'\n",
    "# il prend en parametre le nombre des lignes et celui des colonnes\n",
    "print(np.ones((3,7), dtype=np.int16)) # 3, le nombre des lignes et 7 le nombre des colonnes"
   ]
  },
  {
   "cell_type": "markdown",
   "metadata": {},
   "source": [
    "#### Avec 'np.random.randn(nombre_ligne, nombre_colonne)' et 'np.empty((nombre_lignes, nombre_colonnes))'"
   ]
  },
  {
   "cell_type": "code",
   "execution_count": 6,
   "metadata": {},
   "outputs": [
    {
     "name": "stdout",
     "output_type": "stream",
     "text": [
      "--- Avec np.random.randn() ---\n",
      "[[-0.7188331   1.02730555 -0.36310517  0.84765996]\n",
      " [ 1.97977417  1.15368342 -0.39140427  0.18032966]\n",
      " [-0.68993904 -0.53810661  1.32681481  1.60167453]]\n",
      "--- Avec np.empty()\n",
      "[[-0.7188331   1.02730555 -0.36310517  0.84765996]\n",
      " [ 1.97977417  1.15368342 -0.39140427  0.18032966]\n",
      " [-0.68993904 -0.53810661  1.32681481  1.60167453]]\n"
     ]
    }
   ],
   "source": [
    "# La méthode 'np.random.randn()' nous initialise un tableau numpy ayant des valeurs  aléatoires sans possibilité de déterminer un type des données\n",
    "print('--- Avec np.random.randn() ---')\n",
    "print(np.random.randn(3,4))\n",
    "# La méthode 'np.empty()' nous initialise un tableau numpy ayant des valeurs  aléatoires avec possibilité de déterminer un type des données\n",
    "print('--- Avec np.empty()')\n",
    "print(np.empty((3,4), dtype=np.float64))\n"
   ]
  },
  {
   "cell_type": "markdown",
   "metadata": {},
   "source": [
    "### Numpy - Méthodes ndim, shape et size\n",
    "- ndim = indique la dimension du tableau\n",
    "- shape = indique le nombre des lignes, des colonnes ainsi que la profondeur dans le cas des tableaux à 3 dimensions.\n",
    "    - shape retourne un tuple selon qu'il s'agit d'un tableau en 1D, 2D, 3D ...\n",
    "    Avec l'utilisation des tableaux 2D, nous aurons un à chaque fois un tuple ayant 2  éléments; le premier indiquant le nombre des lignes et le deuxième indiquant le nombre des colonnes.\n",
    "    - shape ne peut pas être modifié car il s'agit d'un tuple\n",
    "    - shape[0] = Accès au nombre des lignes du tableau\n",
    "    - shape[1] = Accès au nombes des colonnes du tableau\n",
    "- size = indique la taille du tableau, soit le nombre d'éléments du tableau"
   ]
  },
  {
   "cell_type": "code",
   "execution_count": 7,
   "metadata": {},
   "outputs": [
    {
     "name": "stdout",
     "output_type": "stream",
     "text": [
      "La dimension de ce tableau est  2\n",
      "le tuple 'shape' de ce tableu est  (3, 3)\n",
      "Ce tableau a  3 ligne(s)\n",
      "Ce tableau a  3 colonne(s)\n",
      "Ce tableau contient 9 éléments\n"
     ]
    }
   ],
   "source": [
    "print(\"La dimension de ce tableau est \", mon_tableau.ndim)# indique la dimension du tableau \n",
    "print(\"le tuple 'shape' de ce tableu est \",mon_tableau.shape)# Nombre des lignes et des colonnes dans un tuple\n",
    "print('Ce tableau a ',mon_tableau.shape[0], 'ligne(s)')  # Indique le nombre des lignes\n",
    "print('Ce tableau a ',mon_tableau.shape[1],'colonne(s)') # Indique le nombre des colonnes\n",
    "print('Ce tableau contient',mon_tableau.size, 'éléments') # Indique la taille du tableau, soit le nombre d'éléments"
   ]
  },
  {
   "cell_type": "markdown",
   "metadata": {},
   "source": [
    "## Indexing, Slicing et Masking"
   ]
  },
  {
   "cell_type": "code",
   "execution_count": 15,
   "metadata": {},
   "outputs": [
    {
     "name": "stdout",
     "output_type": "stream",
     "text": [
      "[[1 2 3]\n",
      " [4 5 6]\n",
      " [7 8 9]]\n"
     ]
    }
   ],
   "source": [
    "print(mon_tableau)"
   ]
  },
  {
   "cell_type": "code",
   "execution_count": 16,
   "metadata": {},
   "outputs": [
    {
     "data": {
      "text/plain": [
       "2"
      ]
     },
     "execution_count": 16,
     "metadata": {},
     "output_type": "execute_result"
    }
   ],
   "source": [
    "# Accès à l\n",
    "mon_tableau[0,1]"
   ]
  }
 ],
 "metadata": {
  "kernelspec": {
   "display_name": "Python 3.9.12 ('base')",
   "language": "python",
   "name": "python3"
  },
  "language_info": {
   "codemirror_mode": {
    "name": "ipython",
    "version": 3
   },
   "file_extension": ".py",
   "mimetype": "text/x-python",
   "name": "python",
   "nbconvert_exporter": "python",
   "pygments_lexer": "ipython3",
   "version": "3.9.12"
  },
  "orig_nbformat": 4,
  "vscode": {
   "interpreter": {
    "hash": "28d6d9e31a694f2aba28d42b1019d9365f56410d563150feaee59905aa4508a9"
   }
  }
 },
 "nbformat": 4,
 "nbformat_minor": 2
}
