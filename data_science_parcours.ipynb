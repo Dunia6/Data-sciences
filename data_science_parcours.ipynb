{
 "cells": [
  {
   "cell_type": "markdown",
   "metadata": {},
   "source": [
    "# Data science (Parcours) M@sm@"
   ]
  },
  {
   "cell_type": "markdown",
   "metadata": {},
   "source": [
    "# Introduction à la bibliothèque numpy"
   ]
  },
  {
   "cell_type": "code",
   "execution_count": 56,
   "metadata": {},
   "outputs": [],
   "source": [
    "import numpy as np"
   ]
  },
  {
   "cell_type": "markdown",
   "metadata": {},
   "source": [
    "## Création d'un tableau numpy"
   ]
  },
  {
   "cell_type": "markdown",
   "metadata": {},
   "source": [
    "#### Avec 'np.array()'"
   ]
  },
  {
   "cell_type": "code",
   "execution_count": 57,
   "metadata": {},
   "outputs": [
    {
     "name": "stdout",
     "output_type": "stream",
     "text": [
      "<class 'numpy.ndarray'>\n",
      "[[1 2 3]\n",
      " [4 5 6]\n",
      " [7 8 9]]\n"
     ]
    }
   ],
   "source": [
    "mon_tableau = np.array([[1,2,3],[4,5,6],[7,8,9]], dtype=np.int16)\n",
    "# Création d'un tableau grace a la methode 'np.array()' de numpy de type entier\n",
    "# qui prend des listes en parametre\n",
    "print(type(mon_tableau))\n",
    "print(mon_tableau)"
   ]
  },
  {
   "cell_type": "markdown",
   "metadata": {},
   "source": [
    "#### Avec 'np.zeros((nombre_lignes, nombre_colonnes))'"
   ]
  },
  {
   "cell_type": "code",
   "execution_count": 58,
   "metadata": {},
   "outputs": [
    {
     "name": "stdout",
     "output_type": "stream",
     "text": [
      "[[0 0 0 0 0]\n",
      " [0 0 0 0 0]\n",
      " [0 0 0 0 0]]\n"
     ]
    }
   ],
   "source": [
    "# La methode 'np.zeros()' nous perment d'initialiser un tableau rempli des '0'\n",
    "# il prend en parametre le nombre des lignes et celui des colonnes\n",
    "print(np.zeros((3,5), dtype=np.int16))# 3, le nombre des lignes et 5 le nombre des colonnes"
   ]
  },
  {
   "cell_type": "markdown",
   "metadata": {},
   "source": [
    "#### Avec 'np.ones((nombre_lignes, nombre_colonnes))'"
   ]
  },
  {
   "cell_type": "code",
   "execution_count": 59,
   "metadata": {},
   "outputs": [
    {
     "name": "stdout",
     "output_type": "stream",
     "text": [
      "[[1 1 1 1 1 1 1]\n",
      " [1 1 1 1 1 1 1]\n",
      " [1 1 1 1 1 1 1]]\n"
     ]
    }
   ],
   "source": [
    "# La methode 'np.ones()' nous perment d'initialiser un tableau rempli des '0'\n",
    "# il prend en parametre le nombre des lignes et celui des colonnes\n",
    "print(np.ones((3,7), dtype=np.int16)) # 3, le nombre des lignes et 7 le nombre des colonnes"
   ]
  },
  {
   "cell_type": "markdown",
   "metadata": {},
   "source": [
    "#### Avec 'np.random.randn(nombre_ligne, nombre_colonne)' et 'np.empty((nombre_lignes, nombre_colonnes))'"
   ]
  },
  {
   "cell_type": "code",
   "execution_count": 60,
   "metadata": {},
   "outputs": [
    {
     "name": "stdout",
     "output_type": "stream",
     "text": [
      "--- Avec np.random.randn() ---\n",
      "[[-0.02982457  3.68225212  0.50404154 -0.68162731]\n",
      " [-1.45548399 -1.2532412  -0.09695496 -0.66313354]\n",
      " [-0.94139118 -0.62714593  1.35411338  0.45794504]]\n",
      "--- Avec np.empty()\n",
      "[[-0.02982457  3.68225212  0.50404154 -0.68162731]\n",
      " [-1.45548399 -1.2532412  -0.09695496 -0.66313354]\n",
      " [-0.94139118 -0.62714593  1.35411338  0.45794504]]\n"
     ]
    }
   ],
   "source": [
    "# La méthode 'np.random.randn()' nous initialise un tableau numpy ayant des valeurs  aléatoires sans possibilité de déterminer un type des données\n",
    "print('--- Avec np.random.randn() ---')\n",
    "print(np.random.randn(3,4))\n",
    "# La méthode 'np.empty()' nous initialise un tableau numpy ayant des valeurs  aléatoires avec possibilité de déterminer un type des données\n",
    "print('--- Avec np.empty()')\n",
    "print(np.empty((3,4), dtype=np.float64))\n"
   ]
  },
  {
   "cell_type": "markdown",
   "metadata": {},
   "source": [
    "### Numpy - Méthodes ndim, shape et size\n",
    "- ndim = indique la dimension du tableau\n",
    "- shape = indique le nombre des lignes, des colonnes ainsi que la profondeur dans le cas des tableaux à 3 dimensions.\n",
    "    - shape retourne un tuple selon qu'il s'agit d'un tableau en 1D, 2D, 3D ...\n",
    "    Avec l'utilisation des tableaux 2D, nous aurons à chaque fois un tuple ayant 2  éléments; le premier indiquant le nombre des lignes et le deuxième indiquant le nombre des colonnes.\n",
    "    - shape ne peut pas être modifié car il s'agit d'un tuple\n",
    "    - shape[0] = Accès au nombre des lignes du tableau\n",
    "    - shape[1] = Accès au nombes des colonnes du tableau\n",
    "- size = indique la taille du tableau, soit le nombre d'éléments du tableau"
   ]
  },
  {
   "cell_type": "code",
   "execution_count": 61,
   "metadata": {},
   "outputs": [
    {
     "name": "stdout",
     "output_type": "stream",
     "text": [
      "La dimension de ce tableau est  2\n",
      "le tuple 'shape' de ce tableu est  (3, 3)\n",
      "Ce tableau a  3 ligne(s)\n",
      "Ce tableau a  3 colonne(s)\n",
      "Ce tableau contient 9 éléments\n"
     ]
    }
   ],
   "source": [
    "print(\"La dimension de ce tableau est \", mon_tableau.ndim)# indique la dimension du tableau \n",
    "print(\"le tuple 'shape' de ce tableu est \",mon_tableau.shape)# Nombre des lignes et des colonnes dans un tuple\n",
    "print('Ce tableau a ',mon_tableau.shape[0], 'ligne(s)')  # Indique le nombre des lignes\n",
    "print('Ce tableau a ',mon_tableau.shape[1],'colonne(s)') # Indique le nombre des colonnes\n",
    "print('Ce tableau contient',mon_tableau.size, 'éléments') # Indique la taille du tableau, soit le nombre d'éléments"
   ]
  },
  {
   "cell_type": "markdown",
   "metadata": {},
   "source": [
    "## Indexing et Slicing"
   ]
  },
  {
   "cell_type": "markdown",
   "metadata": {},
   "source": [
    "### Indexing"
   ]
  },
  {
   "cell_type": "code",
   "execution_count": 62,
   "metadata": {},
   "outputs": [
    {
     "name": "stdout",
     "output_type": "stream",
     "text": [
      "[[1 2 3]\n",
      " [4 5 6]\n",
      " [7 8 9]]\n"
     ]
    }
   ],
   "source": [
    "print(mon_tableau)"
   ]
  },
  {
   "cell_type": "code",
   "execution_count": 68,
   "metadata": {},
   "outputs": [
    {
     "name": "stdout",
     "output_type": "stream",
     "text": [
      "[[1 2 3]\n",
      " [4 5 6]\n",
      " [7 8 9]]\n"
     ]
    },
    {
     "data": {
      "text/plain": [
       "2"
      ]
     },
     "execution_count": 68,
     "metadata": {},
     "output_type": "execute_result"
    }
   ],
   "source": [
    "# indexing\n",
    "# Accès à l'élément du table se trouvant à la première ligne; deuxième colonne\n",
    "# Le 1er parametre indique la ligne et le second, indique la colonne\n",
    "print(mon_tableau)\n",
    "mon_tableau[0,1]"
   ]
  },
  {
   "cell_type": "markdown",
   "metadata": {},
   "source": [
    "### Boolean indexing"
   ]
  },
  {
   "cell_type": "code",
   "execution_count": 93,
   "metadata": {},
   "outputs": [
    {
     "name": "stdout",
     "output_type": "stream",
     "text": [
      "Matrice aléatoire\n",
      "[[9 3 7 6 8]\n",
      " [6 8 5 6 3]\n",
      " [1 5 1 3 5]\n",
      " [5 5 8 9 8]\n",
      " [6 5 0 3 1]]\n",
      "Remplace toutes les valeurs supérieurs à '5' par '6'\n",
      "[[6 3 6 6 6]\n",
      " [6 6 5 6 3]\n",
      " [1 5 1 3 5]\n",
      " [5 5 6 6 6]\n",
      " [6 5 0 3 1]]\n"
     ]
    }
   ],
   "source": [
    "T = np.random.randint(0,10,[5,5])\n",
    "print(f\"Matrice aléatoire\\n{T}\")\n",
    "T[T>5] = 6 # Change toutes les valeurs supérieurs à '5' en '6'\n",
    "print(f\"Remplace toutes les valeurs supérieurs à '5' par '6'\\n{T}\")"
   ]
  },
  {
   "cell_type": "markdown",
   "metadata": {},
   "source": [
    "### Slicing"
   ]
  },
  {
   "cell_type": "code",
   "execution_count": 78,
   "metadata": {},
   "outputs": [
    {
     "name": "stdout",
     "output_type": "stream",
     "text": [
      "[[10 10]\n",
      " [10 10]]\n",
      "shape =  (2, 2)\n",
      "Mon tableau\n",
      "[[10 10  3]\n",
      " [10 10  6]\n",
      " [ 7  8  9]]\n",
      "Accès à 2 dernières colonnes\n",
      "[[10  3]\n",
      " [10  6]\n",
      " [ 8  9]]\n"
     ]
    }
   ],
   "source": [
    "# Slicing \n",
    "tableau_slicing = mon_tableau[0:2, 0:2]\n",
    "tableau_slicing[:,:] = 10\n",
    "print(tableau_slicing)\n",
    "print('shape = ',tableau_slicing.shape)\n",
    "print(f'Mon tableau\\n{mon_tableau}')\n",
    "print(f\"Accès à 2 dernières colonnes\\n{mon_tableau[:, -2: ]}\")\n"
   ]
  },
  {
   "cell_type": "code",
   "execution_count": 83,
   "metadata": {},
   "outputs": [
    {
     "name": "stdout",
     "output_type": "stream",
     "text": [
      "tableau\n",
      "[[0. 0. 0. 0.]\n",
      " [0. 0. 0. 0.]\n",
      " [0. 0. 0. 0.]\n",
      " [0. 0. 0. 0.]]\n",
      "Modification de 4 éléments au centre du tableau\n",
      "[[ 0.  0.  0.  0.]\n",
      " [ 0. 10. 10.  0.]\n",
      " [ 0. 10. 10.  0.]\n",
      " [ 0.  0.  0.  0.]])\n"
     ]
    }
   ],
   "source": [
    "b = np.zeros((4,4))\n",
    "print(f'tableau\\n{b}')\n",
    "b[1:3, 1:3] = 8\n",
    "print(f\"Modification de 4 éléments au centre du tableau\\n{b})\")"
   ]
  },
  {
   "cell_type": "code",
   "execution_count": 88,
   "metadata": {},
   "outputs": [
    {
     "data": {
      "text/plain": [
       "array([[1., 0., 1., 0., 1.],\n",
       "       [0., 0., 0., 0., 0.],\n",
       "       [1., 0., 1., 0., 1.],\n",
       "       [0., 0., 0., 0., 0.],\n",
       "       [1., 0., 1., 0., 1.]])"
      ]
     },
     "execution_count": 88,
     "metadata": {},
     "output_type": "execute_result"
    }
   ],
   "source": [
    "# Slicing avec la notion de pas\n",
    "c = np.zeros((5,5))\n",
    "c[::2, ::2] = 1\n",
    "c"
   ]
  },
  {
   "cell_type": "markdown",
   "metadata": {},
   "source": [
    "## Assemblage ou fusion des tableaux"
   ]
  },
  {
   "cell_type": "markdown",
   "metadata": {},
   "source": [
    "Utilisation des méthodes :\n",
    "* hstack\n",
    "* vstack\n",
    "* concatenate"
   ]
  },
  {
   "cell_type": "code",
   "execution_count": 64,
   "metadata": {},
   "outputs": [],
   "source": [
    "import numpy as np\n",
    "\n",
    "\n",
    "a = np.zeros((3,2), dtype=np.int16)\n",
    "b = np.ones((3,2))\n"
   ]
  },
  {
   "cell_type": "code",
   "execution_count": 65,
   "metadata": {},
   "outputs": [
    {
     "data": {
      "text/plain": [
       "array([[0., 0., 1., 1.],\n",
       "       [0., 0., 1., 1.],\n",
       "       [0., 0., 1., 1.]])"
      ]
     },
     "execution_count": 65,
     "metadata": {},
     "output_type": "execute_result"
    }
   ],
   "source": [
    "# Avec hstack\n",
    "\n",
    "np.hstack((a,b))"
   ]
  },
  {
   "cell_type": "code",
   "execution_count": 66,
   "metadata": {},
   "outputs": [
    {
     "data": {
      "text/plain": [
       "array([[0., 0.],\n",
       "       [0., 0.],\n",
       "       [0., 0.],\n",
       "       [1., 1.],\n",
       "       [1., 1.],\n",
       "       [1., 1.]])"
      ]
     },
     "execution_count": 66,
     "metadata": {},
     "output_type": "execute_result"
    }
   ],
   "source": [
    "# Avec le vstack\n",
    "\n",
    "np.vstack((a,b))"
   ]
  },
  {
   "cell_type": "code",
   "execution_count": 67,
   "metadata": {},
   "outputs": [
    {
     "name": "stdout",
     "output_type": "stream",
     "text": [
      "fusion verticale\n",
      "[[0. 0.]\n",
      " [0. 0.]\n",
      " [0. 0.]\n",
      " [1. 1.]\n",
      " [1. 1.]\n",
      " [1. 1.]]\n",
      "Fusion horizontale\n",
      "[[0. 0. 1. 1.]\n",
      " [0. 0. 1. 1.]\n",
      " [0. 0. 1. 1.]]\n"
     ]
    }
   ],
   "source": [
    "# Avec concatenate, il y a un autre parametre appelé axis\n",
    "# axis = 0 --> Pour l'assemblage ou la fusion verticale et axis = 1 --> pour la fusion horizontale\n",
    "\n",
    "v = np.concatenate((a,b), axis=0) # fusion verticale\n",
    "h = np.concatenate((a,b), axis=1) # fusion horizontale\n",
    "print(f'Fusion verticale\\n{v}')\n",
    "print(f\"Fusion horizontale\\n{h}\")"
   ]
  }
 ],
 "metadata": {
  "kernelspec": {
   "display_name": "Python 3.9.12 ('base')",
   "language": "python",
   "name": "python3"
  },
  "language_info": {
   "codemirror_mode": {
    "name": "ipython",
    "version": 3
   },
   "file_extension": ".py",
   "mimetype": "text/x-python",
   "name": "python",
   "nbconvert_exporter": "python",
   "pygments_lexer": "ipython3",
   "version": "3.9.12"
  },
  "orig_nbformat": 4,
  "vscode": {
   "interpreter": {
    "hash": "28d6d9e31a694f2aba28d42b1019d9365f56410d563150feaee59905aa4508a9"
   }
  }
 },
 "nbformat": 4,
 "nbformat_minor": 2
}
